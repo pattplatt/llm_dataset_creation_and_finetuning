{
 "cells": [
  {
   "cell_type": "code",
   "execution_count": 1,
   "id": "6a87fd56",
   "metadata": {},
   "outputs": [],
   "source": [
    "import pandas as pd\n",
    "import matplotlib.pyplot as plt\n",
    "import numpy as np"
   ]
  },
  {
   "cell_type": "code",
   "execution_count": 2,
   "id": "3798f06e",
   "metadata": {},
   "outputs": [],
   "source": [
    "def plot_training(path):\n",
    "    df = pd.read_csv(path)\n",
    "    print(df.columns)\n",
    "    df_loss = df[\"loss\"]\n",
    "    df_loss = df_loss.dropna()\n",
    "    df_loss.reset_index(drop=True, inplace=True)\n",
    "    df_loss.head()\n",
    "    plt.style.use(\"ggplot\")\n",
    "\n",
    "    df_loss.plot(x=df_loss.index, y=\"train_loss\", figsize=(15, 7), color=\"b\")\n",
    "\n",
    "    plt.xlabel(\"time\")\n",
    "    plt.ylabel(\"loss\")\n",
    "    plt.title(\"Plot of train_loss over Time\")\n",
    "    average = df_loss.mean()\n",
    "    min = df_loss.min().round(4)\n",
    "    max = df_loss.max().round(4)\n",
    "    moving_average = df_loss.rolling(window=50).mean()\n",
    "    moving_mean = moving_average.mean().round(4)\n",
    "    moving_average.plot(label=f\"moving average\")\n",
    "    plt.axhline(\n",
    "        y=moving_mean,\n",
    "        color=\"c\",\n",
    "        linestyle=\"--\",\n",
    "        label=f\"Moving average mean = {moving_mean}\",\n",
    "    )\n",
    "    plt.axhline(y=min, color=\"g\", linestyle=\"--\", label=f\"Train min = {min}\")\n",
    "    plt.axhline(y=max, color=\"y\", linestyle=\"--\", label=f\"Train max = {max}\")\n",
    "    plt.legend()\n",
    "\n",
    "    plt.show()"
   ]
  },
  {
   "cell_type": "code",
   "execution_count": null,
   "id": "1caf9936",
   "metadata": {},
   "outputs": [],
   "source": [
    "plot_training(\"path/to/metrics.csv\")"
   ]
  }
 ],
 "metadata": {
  "kernelspec": {
   "display_name": "Python 3 (ipykernel)",
   "language": "python",
   "name": "python3"
  },
  "language_info": {
   "codemirror_mode": {
    "name": "ipython",
    "version": 3
   },
   "file_extension": ".py",
   "mimetype": "text/x-python",
   "name": "python",
   "nbconvert_exporter": "python",
   "pygments_lexer": "ipython3",
   "version": "3.10.0"
  }
 },
 "nbformat": 4,
 "nbformat_minor": 5
}
