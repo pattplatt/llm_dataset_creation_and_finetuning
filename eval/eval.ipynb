{
 "cells": [
  {
   "cell_type": "code",
   "execution_count": 1,
   "id": "cfad2eec",
   "metadata": {},
   "outputs": [
    {
     "name": "stderr",
     "output_type": "stream",
     "text": [
      "/usr/local/lib/python3.10/dist-packages/tqdm/auto.py:21: TqdmWarning: IProgress not found. Please update jupyter and ipywidgets. See https://ipywidgets.readthedocs.io/en/stable/user_install.html\n",
      "  from .autonotebook import tqdm as notebook_tqdm\n"
     ]
    }
   ],
   "source": [
    "from transformers import (\n",
    "    GPT2LMHeadModel,\n",
    "    GPT2TokenizerFast,\n",
    "    AutoTokenizer,\n",
    "    AutoModelForCausalLM,\n",
    "    AutoModel,\n",
    ")\n",
    "import evaluate\n",
    "import sys\n",
    "\n",
    "sys.path.insert(0, \"../lit-gpt/generate\")\n",
    "from pathlib import Path\n",
    "import lora\n",
    "import base\n",
    "from datasets import load_dataset\n",
    "import csv\n",
    "import random\n",
    "import torch\n",
    "from tqdm import tqdm\n",
    "import torch.nn as nn\n",
    "import os\n",
    "import json\n",
    "import pandas as pd"
   ]
  },
  {
   "cell_type": "code",
   "execution_count": 2,
   "id": "a5ed788a",
   "metadata": {},
   "outputs": [
    {
     "name": "stdout",
     "output_type": "stream",
     "text": [
      "length train: 3035\n",
      "length test: 159\n",
      "length eval: 2\n"
     ]
    }
   ],
   "source": [
    "with open(\"../lit-gpt/litgpt/data/data/train.json\") as f:\n",
    "    train_data = json.load(f)\n",
    "with open(\"../lit-gpt/litgpt/data/data/val.json\") as f:\n",
    "    eval_data = json.load(f)\n",
    "print(\"length train: \" + str(len(train_data)))\n",
    "print(\"length eval: \" + str(len(eval_data)))"
   ]
  },
  {
   "cell_type": "code",
   "execution_count": null,
   "id": "00d9f389",
   "metadata": {},
   "outputs": [],
   "source": [
    "from datasets import load_dataset\n",
    "\n",
    "dataset = load_dataset(\"Puidii/aalen_university_faculty_computer_science\")"
   ]
  },
  {
   "cell_type": "code",
   "execution_count": 3,
   "id": "72d9fa77",
   "metadata": {},
   "outputs": [],
   "source": [
    "state_dict = torch.load(\"../lit-gpt/out/converted/mistralv2.pth\")\n",
    "model = AutoModelForCausalLM.from_pretrained(\n",
    "    \"mistralai/Mistral-7B-v0.1\", state_dict=state_dict\n",
    ")\n",
    "tokenizer = AutoTokenizer.from_pretrained(\n",
    "    \"mistralai/Mistral-7B-v0.1\", state_dict=state_dict\n",
    ")\n",
    "device = torch.device(\"cuda:3\")  # Use GPU if available, else CPU\n",
    "\n",
    "\n",
    "def compute_perplexity(data, model):\n",
    "    model = model.to(device)\n",
    "    encodings = tokenizer(\"\\n\\n\".join(data), return_tensors=\"pt\")\n",
    "    max_length = model.config.max_position_embeddings\n",
    "    stride = 512\n",
    "    seq_len = encodings.input_ids.size(1)\n",
    "\n",
    "    nlls = []\n",
    "    prev_end_loc = 0\n",
    "    for begin_loc in tqdm(range(0, seq_len, stride)):\n",
    "        end_loc = min(begin_loc + max_length, seq_len)\n",
    "        trg_len = end_loc - prev_end_loc  # may be different from stride on last loop\n",
    "        input_ids = encodings.input_ids[:, begin_loc:end_loc]\n",
    "        input_ids = input_ids.to(device)\n",
    "        target_ids = input_ids.clone()\n",
    "        target_ids[:, :-trg_len] = -100\n",
    "        target_ids = target_ids.to(device)\n",
    "        with torch.no_grad():\n",
    "            outputs = model(input_ids=input_ids, labels=target_ids)\n",
    "            neg_log_likelihood = outputs.loss\n",
    "        nlls.append(neg_log_likelihood)\n",
    "        prev_end_loc = end_loc\n",
    "        if end_loc == seq_len:\n",
    "            break\n",
    "\n",
    "    ppl = torch.exp(torch.stack(nlls).mean())\n",
    "    ppl = ppl.item()\n",
    "    ppl = round(ppl, 2)\n",
    "    return ppl"
   ]
  },
  {
   "cell_type": "code",
   "execution_count": 8,
   "id": "d1f1f84b",
   "metadata": {},
   "outputs": [],
   "source": [
    "column_names = [\"Input\", \"Output\", \"Reference\", \"BLEU\", \"Rogue\", \"Perplexity\"]\n",
    "\n",
    "\n",
    "def train_eval(data, sample_val_count, output_file_name):\n",
    "    results = []\n",
    "    n = random.sample(range(len(data) - 1), sample_val_count)\n",
    "    bleu = evaluate.load(\"bleu\")\n",
    "    rouge = evaluate.load(\"rouge\")\n",
    "    for i in range(n - 1):\n",
    "        model_output = base.main(\n",
    "            prompt=data[i][\"instruction\"],\n",
    "            checkpoint_dir=Path(\n",
    "                \"../lit-gpt/litgpt/finetune/out/finetune/lora_mistral/final\"\n",
    "            ),\n",
    "        )\n",
    "        ppl = compute_perplexity(data[i][\"instruction\"], model)\n",
    "        bleu_result = bleu.compute(\n",
    "            references=[data[i][\"output\"]], predictions=[model_output]\n",
    "        )\n",
    "        rogue_results = rouge.compute(\n",
    "            references=[data[i][\"output\"]], predictions=[model_output]\n",
    "        )\n",
    "        results.append(\n",
    "            [\n",
    "                data[i][\"instruction\"],\n",
    "                model_output,\n",
    "                data[i][\"output\"],\n",
    "                round(bleu_result[\"bleu\"], 2),\n",
    "                round(rogue_results[\"rougeLsum\"], 2),\n",
    "                ppl,\n",
    "            ]\n",
    "        )\n",
    "\n",
    "    with open(output_file_name + \".csv\", \"a\", newline=\"\") as csvfile:\n",
    "        writer = csv.writer(csvfile)\n",
    "        writer.writerow(column_names)\n",
    "        for row in results:\n",
    "            writer.writerow(row)\n",
    "\n",
    "\n",
    "def test_eval(data, output_file_name):\n",
    "    results = []\n",
    "    bleu = evaluate.load(\"bleu\")\n",
    "    rouge = evaluate.load(\"rouge\")\n",
    "\n",
    "    for i in range(len(data)):\n",
    "        print(\"...\")\n",
    "        model_output = base.main(\n",
    "            prompt=data[i][\"instruction\"],\n",
    "            checkpoint_dir=Path(\n",
    "                \"../lit-gpt/litgpt/finetune/out/finetune/lora_mistral/final\"\n",
    "            ),\n",
    "        )\n",
    "        ppl = compute_perplexity(data[i][\"instruction\"], model)\n",
    "        bleu_result = bleu.compute(\n",
    "            references=[data[i][\"output\"]], predictions=[model_output]\n",
    "        )\n",
    "        rogue_results = rouge.compute(\n",
    "            references=[data[i][\"output\"]], predictions=[model_output]\n",
    "        )\n",
    "        results.append(\n",
    "            [\n",
    "                data[i][\"instruction\"],\n",
    "                model_output,\n",
    "                data[i][\"output\"],\n",
    "                round(bleu_result[\"bleu\"], 2),\n",
    "                round(rogue_results[\"rougeLsum\"], 2),\n",
    "                ppl,\n",
    "            ]\n",
    "        )\n",
    "\n",
    "    with open(output_file_name + \".csv\", \"a\", newline=\"\") as csvfile:\n",
    "        writer = csv.writer(csvfile)\n",
    "        writer.writerow(column_names)\n",
    "        for row in results:\n",
    "            writer.writerow(row)"
   ]
  },
  {
   "cell_type": "code",
   "execution_count": null,
   "id": "64a7ed7d",
   "metadata": {},
   "outputs": [],
   "source": [
    "train_eval(dataset[\"train\"], 10, \"output_eval_train.csv\")\n",
    "test_eval(dataset[\"validation\"], \"output_eval_val.csv\")"
   ]
  }
 ],
 "metadata": {
  "kernelspec": {
   "display_name": "Python 3 (ipykernel)",
   "language": "python",
   "name": "python3"
  },
  "language_info": {
   "codemirror_mode": {
    "name": "ipython",
    "version": 3
   },
   "file_extension": ".py",
   "mimetype": "text/x-python",
   "name": "python",
   "nbconvert_exporter": "python",
   "pygments_lexer": "ipython3",
   "version": "3.10.12"
  }
 },
 "nbformat": 4,
 "nbformat_minor": 5
}
