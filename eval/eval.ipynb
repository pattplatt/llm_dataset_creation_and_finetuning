{
 "cells": [
  {
   "cell_type": "code",
   "execution_count": null,
   "id": "cfad2eec",
   "metadata": {},
   "outputs": [],
   "source": [
    "import evaluate\n",
    "import io\n",
    "from contextlib import redirect_stdout\n",
    "import re\n",
    "from pathlib import Path\n",
    "import os\n",
    "import litgpt.generate.base as base\n",
    "import csv\n",
    "import random\n",
    "import torch\n",
    "from tqdm import tqdm\n",
    "import json\n",
    "from transformers import AutoTokenizer, AutoModelForCausalLM"
   ]
  },
  {
   "cell_type": "code",
   "execution_count": null,
   "id": "a5ed788a",
   "metadata": {},
   "outputs": [],
   "source": [
    "with open(\"../dataset/train.json\") as f:\n",
    "    train_data = json.load(f)\n",
    "with open(\"../dataset/val.json\") as f:\n",
    "    eval_data = json.load(f)\n",
    "print(\"length train: \" + str(len(train_data)))\n",
    "print(\"length eval: \" + str(len(eval_data)))"
   ]
  },
  {
   "cell_type": "code",
   "execution_count": null,
   "id": "a9af32fb",
   "metadata": {},
   "outputs": [],
   "source": [
    "model_name = \"/Users/patrickmuller/Documents/dev/05_Project/TinyLlama-1.1B-Chat-v1.0\"\n",
    "hf_checkpoint_path = \"../out/hf_checkpoint/model.pth\"\n",
    "lora_path = \"/Users/patrickmuller/Documents/dev/05_Project/llm_finetuning/out/finetune/lora/final\""
   ]
  },
  {
   "cell_type": "code",
   "execution_count": null,
   "id": "72d9fa77",
   "metadata": {},
   "outputs": [],
   "source": [
    "device = torch.device(\"cuda\" if torch.cuda.is_available() else \"cpu\")\n",
    "state_dict = torch.load(hf_checkpoint_path)\n",
    "tokenizer = AutoTokenizer.from_pretrained(model_name)\n",
    "model = AutoModelForCausalLM.from_pretrained(\n",
    "    model_name, state_dict=state_dict, local_files_only=True\n",
    ")\n",
    "\n",
    "\n",
    "def compute_perplexity(data, model):\n",
    "    model = model.to(device)\n",
    "    encodings = tokenizer(\"\\n\\n\".join(data), return_tensors=\"pt\")\n",
    "    max_length = model.config.max_position_embeddings\n",
    "    stride = 512\n",
    "    seq_len = encodings.input_ids.size(1)\n",
    "\n",
    "    nlls = []\n",
    "    prev_end_loc = 0\n",
    "    for begin_loc in tqdm(range(0, seq_len, stride)):\n",
    "        end_loc = min(begin_loc + max_length, seq_len)\n",
    "        trg_len = end_loc - prev_end_loc\n",
    "        input_ids = encodings.input_ids[:, begin_loc:end_loc]\n",
    "        input_ids = input_ids.to(device)\n",
    "        target_ids = input_ids.clone()\n",
    "        target_ids[:, :-trg_len] = -100\n",
    "        target_ids = target_ids.to(device)\n",
    "        with torch.no_grad():\n",
    "            outputs = model(input_ids=input_ids, labels=target_ids)\n",
    "            neg_log_likelihood = outputs.loss\n",
    "        nlls.append(neg_log_likelihood)\n",
    "        prev_end_loc = end_loc\n",
    "        if end_loc == seq_len:\n",
    "            break\n",
    "\n",
    "    ppl = torch.exp(torch.stack(nlls).mean())\n",
    "    ppl = ppl.item()\n",
    "    ppl = round(ppl, 2)\n",
    "    return ppl"
   ]
  },
  {
   "cell_type": "code",
   "execution_count": null,
   "id": "d1f1f84b",
   "metadata": {},
   "outputs": [],
   "source": [
    "column_names = [\"Input\", \"Output\", \"Reference\", \"BLEU\", \"Rogue\", \"Perplexity\"]\n",
    "\n",
    "\n",
    "def evaluate_model(data, sample_val_count=None, output_file_name=\"output\"):\n",
    "    if sample_val_count is None:\n",
    "        sample_val_count = len(data)\n",
    "\n",
    "    results = []\n",
    "    n = random.sample(range(len(data) - 1), sample_val_count)\n",
    "    bleu = evaluate.load(\"bleu\")\n",
    "    rouge = evaluate.load(\"rouge\")\n",
    "    for i in n:\n",
    "        f = io.StringIO()\n",
    "        with redirect_stdout(f):\n",
    "            model_output = base.main(\n",
    "                prompt=data[i][\"instruction\"],\n",
    "                checkpoint_dir=Path(lora_path),\n",
    "            )\n",
    "        captured_output = f.getvalue()\n",
    "        response = re.search(\"### Response:\\n(.*)\", captured_output, re.DOTALL)\n",
    "        model_output = response.group(1)\n",
    "        ppl = compute_perplexity(data[i][\"instruction\"], model)\n",
    "        bleu_result = bleu.compute(\n",
    "            references=[data[i][\"output\"]], predictions=[model_output]\n",
    "        )\n",
    "        rogue_results = rouge.compute(\n",
    "            references=[data[i][\"output\"]], predictions=[model_output]\n",
    "        )\n",
    "        results.append(\n",
    "            [\n",
    "                data[i][\"instruction\"],\n",
    "                model_output,\n",
    "                data[i][\"output\"],\n",
    "                round(bleu_result[\"bleu\"], 2),\n",
    "                round(rogue_results[\"rougeLsum\"], 2),\n",
    "                ppl,\n",
    "            ]\n",
    "        )\n",
    "\n",
    "    with open(output_file_name + \".csv\", \"a\", newline=\"\") as csvfile:\n",
    "        writer = csv.writer(csvfile)\n",
    "        writer.writerow(column_names)\n",
    "        for row in results:\n",
    "            writer.writerow(row)"
   ]
  },
  {
   "cell_type": "code",
   "execution_count": null,
   "id": "64a7ed7d",
   "metadata": {},
   "outputs": [],
   "source": [
    "evaluate_model(eval_data, 10, \"output_eval_train\")"
   ]
  }
 ],
 "metadata": {
  "kernelspec": {
   "display_name": "Python 3 (ipykernel)",
   "language": "python",
   "name": "python3"
  },
  "language_info": {
   "codemirror_mode": {
    "name": "ipython",
    "version": 3
   },
   "file_extension": ".py",
   "mimetype": "text/x-python",
   "name": "python",
   "nbconvert_exporter": "python",
   "pygments_lexer": "ipython3",
   "version": "3.10.0"
  }
 },
 "nbformat": 4,
 "nbformat_minor": 5
}
